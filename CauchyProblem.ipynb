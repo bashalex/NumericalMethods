{
 "cells": [
  {
   "cell_type": "markdown",
   "metadata": {},
   "source": [
    "## Решение задачи Коши"
   ]
  },
  {
   "cell_type": "markdown",
   "metadata": {},
   "source": [
    "### Постановка задачи:\n",
    "Дана система из двух уравнений следующего вида:\n",
    "#### x' = f0(t, x, y)<br /> y' = f1(t, x, y)\n",
    "где **f0** и **f1** - известные функции. Также известны краевые условия, **x(0) = x0** и **y(0) = y0**. Требуется найти **x** и **y**. Также будем считать решения для интервала **t = [0, T]**.\n",
    "\n",
    "#### Для её решения воспользуемся методом Рунге-Кутты четвёртого порядка.\n",
    "Возьмем формулы, приведенные, например, на википедии и запрограммируем решение для обоих уравнений:\n",
    "<img src=\"images/cauchy_sol.png\">\n",
    "Аргументом **x** в приведенных выше формулах, в нашем случае будет являться **t**.\n",
    "\n",
    "#### Эти действия реализованы в модуле model/cauchy_solver.py"
   ]
  },
  {
   "cell_type": "code",
   "execution_count": 1,
   "metadata": {
    "collapsed": true
   },
   "outputs": [],
   "source": [
    "import numpy as np\n",
    "import model.cauchy_solver as cs"
   ]
  },
  {
   "cell_type": "markdown",
   "metadata": {},
   "source": [
    "### Возьмем какую-нибудь систему, для которой заранее будем знать аналитическое решение и протестируем на ней наш метод:\n",
    "\n",
    "Например:<br/>\n",
    "**x' = 2x - 5y + 3<br/>\n",
    "y' = 5x - 6y + 1**<br/>\n",
    "С начальными условиями **x(0) = 6, y(0) = 5**\n",
    "\n",
    "Аналитическими решениями для этой системы являются следующие функции:\n",
    "<img src=\"images/system_sol.png\" width='30%'>"
   ]
  },
  {
   "cell_type": "code",
   "execution_count": 6,
   "metadata": {
    "collapsed": true
   },
   "outputs": [],
   "source": [
    "def f0(t, x, y):\n",
    "    return 2 * x - 5 * y + 3\n",
    "\n",
    "def f1(t, x, y):\n",
    "    return 5 * x - 6 * y + 1\n",
    "\n",
    "\n",
    "# analytical solution\n",
    "def x_correct(t):\n",
    "    return 5 * np.exp(-2 * t) * np.cos(3 * t) + 1\n",
    "\n",
    "def y_correct(t):\n",
    "    return np.exp(-2 * t) * (4 * np.cos(3 * t) + 3 * np.sin(3 * t)) + 1"
   ]
  },
  {
   "cell_type": "code",
   "execution_count": 7,
   "metadata": {
    "collapsed": false
   },
   "outputs": [],
   "source": [
    "t = np.linspace(0., 5., num=10000)\n",
    "x0, y0 = 6, 5\n",
    "x, y = cs.solve(f0, f1, t, x0, y0) # solve using our method"
   ]
  },
  {
   "cell_type": "markdown",
   "metadata": {},
   "source": [
    "### Изобразим фазовый портрет"
   ]
  },
  {
   "cell_type": "code",
   "execution_count": 9,
   "metadata": {
    "collapsed": true
   },
   "outputs": [],
   "source": [
    "%matplotlib inline\n",
    "import matplotlib.pyplot as plt"
   ]
  },
  {
   "cell_type": "code",
   "execution_count": 10,
   "metadata": {
    "collapsed": false
   },
   "outputs": [
    {
     "data": {
      "image/png": "[encoded data removed]",
      "text/plain": [
       "<matplotlib.figure.Figure at 0x7f755061cdd8>"
      ]
     },
     "metadata": {},
     "output_type": "display_data"
    }
   ],
   "source": [
    "plt.plot(x, y,'r')\n",
    "plt.plot([x_correct(_t) for _t in t], [y_correct(_t) for _t in t], 'grey')\n",
    "plt.show()"
   ]
  }
 ],
 "metadata": {
  "kernelspec": {
   "display_name": "Python 3",
   "language": "python",
   "name": "python3"
  },
  "language_info": {
   "codemirror_mode": {
    "name": "ipython",
    "version": 3
   },
   "file_extension": ".py",
   "mimetype": "text/x-python",
   "name": "python",
   "nbconvert_exporter": "python",
   "pygments_lexer": "ipython3",
   "version": "3.5.2"
  }
 },
 "nbformat": 4,
 "nbformat_minor": 1
}
