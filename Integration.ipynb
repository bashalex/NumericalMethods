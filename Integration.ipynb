{
 "cells": [
  {
   "cell_type": "code",
   "execution_count": 1,
   "metadata": {
    "collapsed": true
   },
   "outputs": [],
   "source": [
    "from model.integration import integrate_p_func\n",
    "from model.tabulation import save_tabulated_func\n",
    "from scipy.integrate import simps\n",
    "import numpy as np\n",
    "from model import data"
   ]
  },
  {
   "cell_type": "code",
   "execution_count": 2,
   "metadata": {
    "collapsed": true
   },
   "outputs": [],
   "source": [
    "name = 'ρ(w)'"
   ]
  },
  {
   "cell_type": "markdown",
   "metadata": {},
   "source": [
    "### Возьмем сетку шагов следующих размеров:"
   ]
  },
  {
   "cell_type": "code",
   "execution_count": 3,
   "metadata": {
    "collapsed": false
   },
   "outputs": [],
   "source": [
    "steps = [0.1, 0.05, 0.025, 0.0125, 0.00625, 0.003125]"
   ]
  },
  {
   "cell_type": "markdown",
   "metadata": {},
   "source": [
    "### Функция integrate_p_func из модуля model.integration использует метод Симпсона:"
   ]
  },
  {
   "cell_type": "markdown",
   "metadata": {},
   "source": [
    "Для одного отрезка используется следующая формула:\n",
    "<img src=\"tests/simple_simpson.png\">\n",
    "Когда мы разбиваем наш отрезок на n промежутков можно воспользоваться:\n",
    "<img src=\"tests/simpson.png\">"
   ]
  },
  {
   "cell_type": "code",
   "execution_count": 6,
   "metadata": {
    "collapsed": false
   },
   "outputs": [],
   "source": [
    "def integrate(func: str, steps: list, x0=0, x1=2) -> list:\n",
    "    print('integrate {}...'.format(func))\n",
    "    results = []\n",
    "    intervals = []\n",
    "    scipy_result = 0\n",
    "    for step in steps:\n",
    "        print(\"step = {}\".format(step))\n",
    "        # tabulate function and save to the file\n",
    "        thread = save_tabulated_func(name, func, x0=x0, x1=x1, step=step)\n",
    "        thread.join()\n",
    "        \n",
    "        # load tabulated function\n",
    "        x, y = data.get_p_function()\n",
    "        \n",
    "        # integrate it\n",
    "        results.append(integrate_p_func(x, y, step=step))\n",
    "        intervals.append(len(y) - 1)\n",
    "        if step == steps[0]:\n",
    "            # integrate it using scipy\n",
    "            scipy_result = simps(y, x)   \n",
    "    return scipy_result, results, intervals"
   ]
  },
  {
   "cell_type": "markdown",
   "metadata": {},
   "source": [
    "### Погрешность метода можно оценить аналитически, ограничив сверху при помощи следующей формулы:\n",
    "<img src=\"tests/error.png\">\n",
    "### Также погрешность можно оценить следующим способом:"
   ]
  },
  {
   "cell_type": "markdown",
   "metadata": {},
   "source": [
    "### Запустим поочереди интегрирование для различных функций с каждым шагом из сетки и построим логарифмический график. На этом графике коэффициент наклона прямой будет показывает степень точности, а отступ (значение графика в 0)  - константу погрешности."
   ]
  },
  {
   "cell_type": "code",
   "execution_count": 7,
   "metadata": {
    "collapsed": false
   },
   "outputs": [],
   "source": [
    "%matplotlib inline\n",
    "\n",
    "from matplotlib.pyplot import plot, loglog\n",
    "import math\n",
    "\n",
    "def run_test(func, steps, x0=0, x1=2):\n",
    "    correct_result, results, intervals = integrate(func, steps, x0, x1)\n",
    "    print(correct_result)\n",
    "    print(results)\n",
    "    print(intervals)\n",
    "    print([abs(results[i-1] - results[i]) for i in range(1, len(results))])\n",
    "    print(\"coef: \", np.polyfit([math.log(x) for x in intervals[1:]],\n",
    "                                [math.log(abs(results[i-1] - results[i])) for i in range(1, len(results))], 1))\n",
    "    loglog(intervals[1:], [abs(results[i-1] - results[i]) for i in range(1, len(results))])"
   ]
  },
  {
   "cell_type": "markdown",
   "metadata": {},
   "source": [
    "### 6 * w^(1/2) проинтегрируем на отрезке [1, 2]"
   ]
  },
  {
   "cell_type": "code",
   "execution_count": 9,
   "metadata": {
    "collapsed": false
   },
   "outputs": [
    {
     "name": "stdout",
     "output_type": "stream",
     "text": [
      "integrate 6 * w^(1/2)...\n",
      "step = 0.1\n",
      "function data/p_func.csv saved.\n",
      "num of steps: 10\n",
      "step = 0.05\n",
      "function data/p_func.csv saved.\n",
      "num of steps: 20\n",
      "step = 0.025\n",
      "function data/p_func.csv saved.\n",
      "num of steps: 40\n",
      "step = 0.0125\n",
      "function data/p_func.csv saved.\n",
      "num of steps: 80\n",
      "step = 0.00625\n",
      "function data/p_func.csv saved.\n",
      "num of steps: 160\n",
      "step = 0.003125\n",
      "function data/p_func.csv saved.\n",
      "num of steps: 320\n",
      "7.31370748208\n",
      "[7.313707482081956, 7.31370843486361, 7.313708494968146, 7.313708498733577, 7.313708498969078, 7.313708498983794]\n",
      "[10, 20, 40, 80, 160, 320]\n",
      "[9.527816544618872e-07, 6.010453557081519e-08, 3.765431522140261e-09, 2.355005079834882e-10, 1.4716228236011375e-11]\n",
      "coef:  [-3.99605    -1.88917093]\n"
     ]
    },
    {
     "data": {
      "image/png": "[encoded data removed]",
      "text/plain": [
       "<matplotlib.figure.Figure at 0x7f63e041dd30>"
      ]
     },
     "metadata": {},
     "output_type": "display_data"
    }
   ],
   "source": [
    "run_test('6 * w^(1/2)', steps, x0 = 1)"
   ]
  },
  {
   "cell_type": "markdown",
   "metadata": {},
   "source": [
    "### Коэффициент наклона прямой равен -3.99605, что позволяет нам судить о степени точности вычисления"
   ]
  },
  {
   "cell_type": "markdown",
   "metadata": {
    "collapsed": false
   },
   "source": [
    "### sin(w) проинтегрируем на отрезке [0, 5]"
   ]
  },
  {
   "cell_type": "code",
   "execution_count": 10,
   "metadata": {
    "collapsed": false
   },
   "outputs": [
    {
     "name": "stdout",
     "output_type": "stream",
     "text": [
      "integrate sin(w)...\n",
      "step = 0.1\n",
      "function data/p_func.csv saved.\n",
      "num of steps: 50\n",
      "step = 0.05\n",
      "function data/p_func.csv saved.\n",
      "num of steps: 100\n",
      "step = 0.025\n",
      "function data/p_func.csv saved.\n",
      "num of steps: 200\n",
      "step = 0.0125\n",
      "function data/p_func.csv saved.\n",
      "num of steps: 400\n",
      "step = 0.00625\n",
      "function data/p_func.csv saved.\n",
      "num of steps: 800\n",
      "step = 0.003125\n",
      "function data/p_func.csv saved.\n",
      "num of steps: 1600\n",
      "0.716338212976\n",
      "[0.7163382129764921, 0.7163378394170192, 0.7163378160914415, 0.7163378146339338, 0.7163378145428462, 0.7163378145371528]\n",
      "[50, 100, 200, 400, 800, 1600]\n",
      "[3.735594729104008e-07, 2.3325577691579724e-08, 1.4575077811329606e-09, 9.108758192155619e-11, 5.693334692580265e-12]\n",
      "coef:  [-4.00038517  3.62189266]\n"
     ]
    },
    {
     "data": {
      "image/png": "[encoded data removed]",
      "text/plain": [
       "<matplotlib.figure.Figure at 0x7f63dd2a2780>"
      ]
     },
     "metadata": {},
     "output_type": "display_data"
    }
   ],
   "source": [
    "run_test('sin(w)', steps, x1=5)"
   ]
  },
  {
   "cell_type": "markdown",
   "metadata": {},
   "source": [
    "### Коэффициент наклона прямой по-прежнему равен приблизительно -4"
   ]
  },
  {
   "cell_type": "markdown",
   "metadata": {},
   "source": [
    "### Теперь проинтегрируем разрывную функцию round(w) на отрезке [0, 5]"
   ]
  },
  {
   "cell_type": "code",
   "execution_count": 12,
   "metadata": {
    "collapsed": false
   },
   "outputs": [
    {
     "name": "stdout",
     "output_type": "stream",
     "text": [
      "integrate <function <lambda> at 0x7f63dca33378>...\n",
      "step = 0.1\n",
      "function data/p_func.csv saved.\n",
      "num of steps: 50\n",
      "step = 0.05\n",
      "function data/p_func.csv saved.\n",
      "num of steps: 100\n",
      "step = 0.025\n",
      "function data/p_func.csv saved.\n",
      "num of steps: 200\n",
      "step = 0.0125\n",
      "function data/p_func.csv saved.\n",
      "num of steps: 400\n",
      "step = 0.00625\n",
      "function data/p_func.csv saved.\n",
      "num of steps: 800\n",
      "step = 0.003125\n",
      "function data/p_func.csv saved.\n",
      "num of steps: 1600\n",
      "12.4333333333\n",
      "[12.433333333333334, 12.483333333333333, 12.491666666666667, 12.495833333333334, 12.497916666666667, 12.498958333333333]\n",
      "[50, 100, 200, 400, 800, 1600]\n",
      "[0.049999999999998934, 0.008333333333334636, 0.00416666666666643, 0.002083333333333215, 0.0010416666666657193]\n",
      "coef:  [-1.3169925   2.62979741]\n"
     ]
    },
    {
     "data": {
      "image/png": "[encoded data removed]",
      "text/plain": [
       "<matplotlib.figure.Figure at 0x7f63dc90c668>"
      ]
     },
     "metadata": {},
     "output_type": "display_data"
    }
   ],
   "source": [
    "run_test(lambda x: round(x), steps, x1=5)"
   ]
  },
  {
   "cell_type": "markdown",
   "metadata": {},
   "source": [
    "### Здесь наблюдается наклон прямой (которая даже и не совсем прямая) -1.32, что говорит о том, что разрывная функция аппроксимируется хуже, чем гладкая. "
   ]
  }
 ],
 "metadata": {
  "kernelspec": {
   "display_name": "Python 3",
   "language": "python",
   "name": "python3"
  },
  "language_info": {
   "codemirror_mode": {
    "name": "ipython",
    "version": 3
   },
   "file_extension": ".py",
   "mimetype": "text/x-python",
   "name": "python",
   "nbconvert_exporter": "python",
   "pygments_lexer": "ipython3",
   "version": "3.5.2"
  }
 },
 "nbformat": 4,
 "nbformat_minor": 1
}
