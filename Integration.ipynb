{
 "cells": [
  {
   "cell_type": "code",
   "execution_count": 1,
   "metadata": {
    "collapsed": true
   },
   "outputs": [],
   "source": [
    "from model.integration import integrate_p_func\n",
    "from model.tabulation import save_tabulated_func\n",
    "from scipy.integrate import simps\n",
    "from model import data"
   ]
  },
  {
   "cell_type": "code",
   "execution_count": 2,
   "metadata": {
    "collapsed": true
   },
   "outputs": [],
   "source": [
    "name = 'ρ(w)'"
   ]
  },
  {
   "cell_type": "markdown",
   "metadata": {},
   "source": [
    "### Возьмем сетку шагов следующих размеров:"
   ]
  },
  {
   "cell_type": "code",
   "execution_count": 3,
   "metadata": {
    "collapsed": false
   },
   "outputs": [],
   "source": [
    "steps = [0.1, 0.05, 0.025, 0.0125, 0.00625, 0.003125]"
   ]
  },
  {
   "cell_type": "markdown",
   "metadata": {},
   "source": [
    "### Функция integrate_p_func из модуля model.integration использует метод Симпсона:"
   ]
  },
  {
   "cell_type": "markdown",
   "metadata": {},
   "source": [
    "Для одного отрезка используется следующая формула:\n",
    "<img src=\"tests/simple_simpson.png\">\n",
    "Когда мы разбиваем наш отрезок на n промежутков можно воспользоваться:\n",
    "<img src=\"tests/simpson.png\">"
   ]
  },
  {
   "cell_type": "markdown",
   "metadata": {},
   "source": [
    "### Для примера будем интегрировать функцию на отрезке [0, 2]"
   ]
  },
  {
   "cell_type": "code",
   "execution_count": 4,
   "metadata": {
    "collapsed": false
   },
   "outputs": [],
   "source": [
    "def integrate(func: str, steps: list, x0=0, x1=2) -> list:\n",
    "    print('integrate {}...'.format(func))\n",
    "    results = []\n",
    "    intervals = []\n",
    "    scipy_result = 0\n",
    "    for step in steps:\n",
    "        print(\"step = {}\".format(step))\n",
    "        # tabulate function and save to the file\n",
    "        thread = save_tabulated_func(name, func, x0=x0, x1=x1, step=step)\n",
    "        thread.join()\n",
    "        \n",
    "        # load tabulated function\n",
    "        x, y = data.get_p_function()\n",
    "        \n",
    "        # integrate it\n",
    "        results.append(integrate_p_func(x, y, step=step))\n",
    "        intervals.append(len(y) - 1)\n",
    "        if step == steps[0]:\n",
    "            # integrate it using scipy\n",
    "            scipy_result = simps(y, x)   \n",
    "    return scipy_result, results, intervals"
   ]
  },
  {
   "cell_type": "markdown",
   "metadata": {},
   "source": [
    "### Запустим поочереди интегрирование для различных функций с каждым шагом из сетки и построим логарифмический график:"
   ]
  },
  {
   "cell_type": "code",
   "execution_count": 5,
   "metadata": {
    "collapsed": false
   },
   "outputs": [],
   "source": [
    "%matplotlib inline\n",
    "\n",
    "from matplotlib.pyplot import plot, loglog\n",
    "\n",
    "def run_test(func, steps, x0=0, x1=2):\n",
    "    correct_result, results, intervals = integrate(func, steps, x0, x1)\n",
    "    print(correct_result)\n",
    "    print(results)\n",
    "    print(intervals)\n",
    "    print([abs(results[i-1] - results[i]) for i in range(1, len(results))])\n",
    "    loglog(intervals[1:], [abs(results[i-1] - results[i]) for i in range(1, len(results))])"
   ]
  },
  {
   "cell_type": "markdown",
   "metadata": {},
   "source": [
    "### 6 * w^(1/2)"
   ]
  },
  {
   "cell_type": "code",
   "execution_count": 6,
   "metadata": {
    "collapsed": false
   },
   "outputs": [
    {
     "name": "stdout",
     "output_type": "stream",
     "text": [
      "integrate 6 * w^(1/2)...\n",
      "step = 0.1\n",
      "function data/p_func.csv saved.\n",
      "num of steps: 20\n",
      "step = 0.05\n",
      "function data/p_func.csv saved.\n",
      "num of steps: 40\n",
      "step = 0.025\n",
      "function data/p_func.csv saved.\n",
      "num of steps: 80\n",
      "step = 0.0125\n",
      "function data/p_func.csv saved.\n",
      "num of steps: 160\n",
      "step = 0.00625\n",
      "function data/p_func.csv saved.\n",
      "num of steps: 320\n",
      "step = 0.003125\n",
      "function data/p_func.csv saved.\n",
      "num of steps: 640\n",
      "11.2983050206\n",
      "[11.298305020626481, 11.308262482863109, 11.311783037503114, 11.313027745298289, 11.313467816195045, 11.313623404767421]\n",
      "[20, 40, 80, 160, 320, 640]\n",
      "[0.009957462236627634, 0.0035205546400050025, 0.0012447077951751595, 0.00044007089675623945, 0.00015558857237607526]\n"
     ]
    },
    {
     "data": {
      "image/png": "[encoded data removed]",
      "text/plain": [
       "<matplotlib.figure.Figure at 0x7f801e0e5cf8>"
      ]
     },
     "metadata": {},
     "output_type": "display_data"
    }
   ],
   "source": [
    "run_test('6 * w^(1/2)', steps)"
   ]
  },
  {
   "cell_type": "markdown",
   "metadata": {
    "collapsed": false
   },
   "source": [
    "### sin(w)"
   ]
  },
  {
   "cell_type": "code",
   "execution_count": 7,
   "metadata": {
    "collapsed": false
   },
   "outputs": [
    {
     "name": "stdout",
     "output_type": "stream",
     "text": [
      "integrate sin(w)...\n",
      "step = 0.1\n",
      "function data/p_func.csv saved.\n",
      "num of steps: 20\n",
      "step = 0.05\n",
      "function data/p_func.csv saved.\n",
      "num of steps: 40\n",
      "step = 0.025\n",
      "function data/p_func.csv saved.\n",
      "num of steps: 80\n",
      "step = 0.0125\n",
      "function data/p_func.csv saved.\n",
      "num of steps: 160\n",
      "step = 0.00625\n",
      "function data/p_func.csv saved.\n",
      "num of steps: 320\n",
      "step = 0.003125\n",
      "function data/p_func.csv saved.\n",
      "num of steps: 640\n",
      "1.41614762423\n",
      "[1.4161476242329742, 1.416146885733546, 1.4161468396206067, 1.4161468367392234, 1.4161468365591472, 1.416146836547893]\n",
      "[20, 40, 80, 160, 320, 640]\n",
      "[7.384994282766399e-07, 4.6112939244835616e-08, 2.8813833541363465e-09, 1.8007617619275607e-10, 1.1254108756020287e-11]\n"
     ]
    },
    {
     "data": {
      "image/png": "[encoded data removed]",
      "text/plain": [
       "<matplotlib.figure.Figure at 0x7f8018b616a0>"
      ]
     },
     "metadata": {},
     "output_type": "display_data"
    }
   ],
   "source": [
    "run_test('sin(w)', steps)"
   ]
  },
  {
   "cell_type": "markdown",
   "metadata": {},
   "source": [
    "### 1 / (w - 1)"
   ]
  },
  {
   "cell_type": "code",
   "execution_count": 9,
   "metadata": {
    "collapsed": false
   },
   "outputs": [
    {
     "name": "stdout",
     "output_type": "stream",
     "text": [
      "integrate <function <lambda> at 0x7f8018766a60>...\n",
      "step = 0.1\n",
      "function data/p_func.csv saved.\n",
      "num of steps: 50\n",
      "step = 0.05\n",
      "function data/p_func.csv saved.\n",
      "num of steps: 100\n",
      "step = 0.025\n",
      "function data/p_func.csv saved.\n",
      "num of steps: 200\n",
      "step = 0.0125\n",
      "function data/p_func.csv saved.\n",
      "num of steps: 400\n",
      "step = 0.00625\n",
      "function data/p_func.csv saved.\n",
      "num of steps: 800\n",
      "step = 0.003125\n",
      "function data/p_func.csv saved.\n",
      "num of steps: 1600\n",
      "12.4333333333\n",
      "[12.433333333333334, 12.483333333333333, 12.491666666666667, 12.495833333333334, 12.497916666666667, 12.498958333333333]\n",
      "[50, 100, 200, 400, 800, 1600]\n",
      "[0.049999999999998934, 0.008333333333334636, 0.00416666666666643, 0.002083333333333215, 0.0010416666666657193]\n"
     ]
    },
    {
     "data": {
      "image/png": "[encoded data removed]",
      "text/plain": [
       "<matplotlib.figure.Figure at 0x7f80398f4828>"
      ]
     },
     "metadata": {},
     "output_type": "display_data"
    }
   ],
   "source": [
    "run_test(lambda x: round(x), steps, x1=5)"
   ]
  },
  {
   "cell_type": "markdown",
   "metadata": {},
   "source": [
    "## Коэффициент наклона прямой показывает степень точности, отступ (значение графика в 0) "
   ]
  }
 ],
 "metadata": {
  "kernelspec": {
   "display_name": "Python 3",
   "language": "python",
   "name": "python3"
  },
  "language_info": {
   "codemirror_mode": {
    "name": "ipython",
    "version": 3
   },
   "file_extension": ".py",
   "mimetype": "text/x-python",
   "name": "python",
   "nbconvert_exporter": "python",
   "pygments_lexer": "ipython3",
   "version": "3.5.2"
  }
 },
 "nbformat": 4,
 "nbformat_minor": 1
}
